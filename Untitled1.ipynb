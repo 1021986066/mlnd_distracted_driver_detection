{
 "cells": [
  {
   "cell_type": "code",
   "execution_count": 1,
   "metadata": {
    "collapsed": false
   },
   "outputs": [
    {
     "name": "stderr",
     "output_type": "stream",
     "text": [
      "Using TensorFlow backend.\n"
     ]
    }
   ],
   "source": [
    "import cv2\n",
    "from keras.models import *\n",
    "from keras.layers import *\n",
    "from keras.applications import *\n",
    "from keras.preprocessing.image import *"
   ]
  },
  {
   "cell_type": "code",
   "execution_count": null,
   "metadata": {
    "collapsed": true
   },
   "outputs": [],
   "source": [
    "import numpy as np\n",
    "from tqdm import tqdm\n",
    "\n",
    "np.random.seed(2017)\n",
    "\n",
    "model_image_size = 299\n",
    "\n",
    "n = 25000\n",
    "X = np.zeros((n, model_image_size, model_image_size, 3), dtype=np.uint8)\n",
    "y = np.zeros((n, 1), dtype=np.uint8)\n",
    "\n",
    "for i in tqdm(range(n//2)):\n",
    "    image = cv2.imread( \"data0/train/cats/cat.%d.jpg\" % i)\n",
    "    X[i] = cv2.resize(image, (model_image_size, model_image_size))\n",
    "    image = cv2.imread('data0/train/dogs/dog.%d.jpg' % i)\n",
    "    X[i+n//2] = cv2.resize(image, (model_image_size, model_image_size))\n",
    "\n",
    "y[n//2:] = 1\n",
    "\n",
    "import os\n",
    "import shutil\n",
    "\n",
    "from keras.models import *\n",
    "from keras.layers import *\n",
    "from keras.applications import *\n",
    "from keras.preprocessing.image import *\n",
    "\n",
    "import h5py\n",
    "import math\n",
    "\n",
    "dir = \"/ext/Data/distracted_driver_detection/\"\n",
    "\n",
    "def write_gap(MODEL, image_size, lambda_func=None):\n",
    "    width = image_size[0]\n",
    "    height = image_size[1]\n",
    "    input_tensor = Input((height, width, 3))\n",
    "    x = input_tensor\n",
    "    if lambda_func:\n",
    "        x = Lambda(lambda_func)(x)\n",
    "    base_model = MODEL(input_tensor=x, weights='imagenet', include_top=False)\n",
    "    model = Model(base_model.input, GlobalAveragePooling2D()(base_model.output))\n",
    "\n",
    "    print(MODEL.__name__)\n",
    "    gen = ImageDataGenerator()\n",
    "    batch_size = 16\n",
    "    train_generator = gen.flow_from_directory(os.path.join(dir, 'train'), image_size, shuffle=False, batch_size=batch_size)\n",
    "    print(\"subdior to train type {}\".format(train_generator.class_indices))\n",
    "    valid_generator = gen.flow_from_directory(os.path.join(dir, 'valid'), image_size, shuffle=False, batch_size=batch_size)\n",
    "    print(\"subdior to valid type {}\".format(valid_generator.class_indices))\n",
    "\n",
    "    print(\"predict_generator train {}\".format(math.ceil(train_generator.samples/batch_size)))\n",
    "    train = model.predict_generator(train_generator, math.ceil(train_generator.samples/batch_size))\n",
    "    print(\"train: {}\".format(train.shape))\n",
    "    print(\"predict_generator valid {}\".format(math.ceil(valid_generator.samples/batch_size)))\n",
    "    valid = model.predict_generator(valid_generator, math.ceil(valid_generator.samples/batch_size))\n",
    "    print(\"valid: {}\".format(valid.shape))\n",
    "    print(\"train label: {}\".format(train_generator.classes.shape))\n",
    "    print(\"valid label: {}\".format(valid_generator.classes.shape))\n",
    "\n",
    "    print(\"begin create database {}\".format(Model.__name__))\n",
    "    with h5py.File(\"models/bottleneck_%s.h5\" % MODEL.__name__) as h:\n",
    "        h.create_dataset(\"train\", data=train)\n",
    "        h.create_dataset(\"valid\", data=valid)\n",
    "        h.create_dataset(\"label\", data=train_generator.classes)\n",
    "        h.create_dataset(\"valid_label\", data=valid_generator.classes)\n",
    "    print(\"write_gap {} successed\".format(Model.__name__))\n",
    "\n",
    "def write_gap_test(MODEL, image_size, lambda_func=None):\n",
    "    width = image_size[0]\n",
    "    height = image_size[1]\n",
    "    input_tensor = Input((height, width, 3))\n",
    "    x = input_tensor\n",
    "    if lambda_func:\n",
    "        x = Lambda(lambda_func)(x)\n",
    "    base_model = MODEL(input_tensor=x, weights='imagenet', include_top=False)\n",
    "    model = Model(base_model.input, GlobalAveragePooling2D()(base_model.output))\n",
    "\n",
    "    print(MODEL.__name__)\n",
    "    gen = ImageDataGenerator()\n",
    "    batch_size = 16\n",
    "    test_generator = gen.flow_from_directory(os.path.join(dir, 'test'), image_size, shuffle=False, batch_size=batch_size, class_mode=None)\n",
    "    print(\"predict_generator test {}\".format(math.ceil(test_generator.samples/batch_size)))\n",
    "    test = model.predict_generator(test_generator, math.ceil(test_generator.samples/batch_size))\n",
    "    print(\"test: {}\".format(test.shape))\n",
    "\n",
    "    print(\"begin create database {}\".format(Model.__name__))\n",
    "    with h5py.File(\"models/bottleneck_%s_test.h5\" % MODEL.__name__) as h:\n",
    "        h.create_dataset(\"test\", data=test)\n",
    "    print(\"write_gap {} successed\".format(Model.__name__))\n",
    "\n",
    "# write_gap(ResNet50, (224, 224))\n",
    "# write_gap(Xception, (299, 299), xception.preprocess_input)\n",
    "# write_gap(InceptionV3, (299, 299), inception_v3.preprocess_input)\n",
    "# write_gap(VGG16, (224, 224))\n",
    "# write_gap(VGG19, (224, 224))\n",
    "\n",
    "write_gap_test(ResNet50, (224, 224))\n",
    "write_gap_test(Xception, (299, 299), xception.preprocess_input)\n",
    "write_gap_test(InceptionV3, (299, 299), inception_v3.preprocess_input)\n",
    "write_gap_test(VGG16, (224, 224))\n",
    "write_gap_test(VGG19, (224, 224))"
   ]
  }
 ],
 "metadata": {
  "kernelspec": {
   "display_name": "Python 3",
   "language": "python",
   "name": "python3"
  },
  "language_info": {
   "codemirror_mode": {
    "name": "ipython",
    "version": 3
   },
   "file_extension": ".py",
   "mimetype": "text/x-python",
   "name": "python",
   "nbconvert_exporter": "python",
   "pygments_lexer": "ipython3",
   "version": "3.6.0"
  }
 },
 "nbformat": 4,
 "nbformat_minor": 2
}
